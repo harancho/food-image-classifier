{
  "nbformat": 4,
  "nbformat_minor": 0,
  "metadata": {
    "colab": {
      "name": "food_classifier.ipynb",
      "provenance": [],
      "collapsed_sections": [],
      "authorship_tag": "ABX9TyOBcAD3+IsjLlHm+SSJ4Y6w"
    },
    "kernelspec": {
      "name": "python3",
      "display_name": "Python 3"
    },
    "accelerator": "GPU"
  },
  "cells": [
    {
      "cell_type": "code",
      "metadata": {
        "id": "smghZ1ZuEbSQ",
        "colab": {
          "base_uri": "https://localhost:8080/"
        },
        "outputId": "30a0119f-6c06-4371-d432-899d0e810db1"
      },
      "source": [
        "!git clone https://github.com/harancho/food-image-classifier.git\n",
        "!pip install -U keras-tuner\n",
        "!pip install split-folders\n",
        "\n",
        "#!wget http://data.vision.ee.ethz.ch/cvl/food-101.tar.gz\n",
        "#!tar xzvf food-101.tar.gz"
      ],
      "execution_count": null,
      "outputs": [
        {
          "output_type": "stream",
          "text": [
            "Cloning into 'food-image-classifier'...\n",
            "remote: Enumerating objects: 66, done.\u001b[K\n",
            "remote: Counting objects: 100% (66/66), done.\u001b[K\n",
            "remote: Compressing objects: 100% (38/38), done.\u001b[K\n",
            "remote: Total 5073 (delta 14), reused 66 (delta 14), pack-reused 5007\u001b[K\n",
            "Receiving objects: 100% (5073/5073), 265.65 MiB | 43.07 MiB/s, done.\n",
            "Resolving deltas: 100% (14/14), done.\n",
            "Checking out files: 100% (5043/5043), done.\n",
            "Collecting keras-tuner\n",
            "\u001b[?25l  Downloading https://files.pythonhosted.org/packages/20/ec/1ef246787174b1e2bb591c95f29d3c1310070cad877824f907faba3dade9/keras-tuner-1.0.2.tar.gz (62kB)\n",
            "\u001b[K     |████████████████████████████████| 71kB 3.9MB/s \n",
            "\u001b[?25hRequirement already satisfied, skipping upgrade: packaging in /usr/local/lib/python3.6/dist-packages (from keras-tuner) (20.4)\n",
            "Requirement already satisfied, skipping upgrade: future in /usr/local/lib/python3.6/dist-packages (from keras-tuner) (0.16.0)\n",
            "Requirement already satisfied, skipping upgrade: numpy in /usr/local/lib/python3.6/dist-packages (from keras-tuner) (1.18.5)\n",
            "Requirement already satisfied, skipping upgrade: tabulate in /usr/local/lib/python3.6/dist-packages (from keras-tuner) (0.8.7)\n",
            "Collecting terminaltables\n",
            "  Downloading https://files.pythonhosted.org/packages/9b/c4/4a21174f32f8a7e1104798c445dacdc1d4df86f2f26722767034e4de4bff/terminaltables-3.1.0.tar.gz\n",
            "Collecting colorama\n",
            "  Downloading https://files.pythonhosted.org/packages/44/98/5b86278fbbf250d239ae0ecb724f8572af1c91f4a11edf4d36a206189440/colorama-0.4.4-py2.py3-none-any.whl\n",
            "Requirement already satisfied, skipping upgrade: tqdm in /usr/local/lib/python3.6/dist-packages (from keras-tuner) (4.41.1)\n",
            "Requirement already satisfied, skipping upgrade: requests in /usr/local/lib/python3.6/dist-packages (from keras-tuner) (2.23.0)\n",
            "Requirement already satisfied, skipping upgrade: scipy in /usr/local/lib/python3.6/dist-packages (from keras-tuner) (1.4.1)\n",
            "Requirement already satisfied, skipping upgrade: scikit-learn in /usr/local/lib/python3.6/dist-packages (from keras-tuner) (0.22.2.post1)\n",
            "Requirement already satisfied, skipping upgrade: pyparsing>=2.0.2 in /usr/local/lib/python3.6/dist-packages (from packaging->keras-tuner) (2.4.7)\n",
            "Requirement already satisfied, skipping upgrade: six in /usr/local/lib/python3.6/dist-packages (from packaging->keras-tuner) (1.15.0)\n",
            "Requirement already satisfied, skipping upgrade: idna<3,>=2.5 in /usr/local/lib/python3.6/dist-packages (from requests->keras-tuner) (2.10)\n",
            "Requirement already satisfied, skipping upgrade: chardet<4,>=3.0.2 in /usr/local/lib/python3.6/dist-packages (from requests->keras-tuner) (3.0.4)\n",
            "Requirement already satisfied, skipping upgrade: certifi>=2017.4.17 in /usr/local/lib/python3.6/dist-packages (from requests->keras-tuner) (2020.11.8)\n",
            "Requirement already satisfied, skipping upgrade: urllib3!=1.25.0,!=1.25.1,<1.26,>=1.21.1 in /usr/local/lib/python3.6/dist-packages (from requests->keras-tuner) (1.24.3)\n",
            "Requirement already satisfied, skipping upgrade: joblib>=0.11 in /usr/local/lib/python3.6/dist-packages (from scikit-learn->keras-tuner) (0.17.0)\n",
            "Building wheels for collected packages: keras-tuner, terminaltables\n",
            "  Building wheel for keras-tuner (setup.py) ... \u001b[?25l\u001b[?25hdone\n",
            "  Created wheel for keras-tuner: filename=keras_tuner-1.0.2-cp36-none-any.whl size=78937 sha256=0b0edeb8febf00dd4c40be7c6704cf74860546557216374dda9c34d54a642d16\n",
            "  Stored in directory: /root/.cache/pip/wheels/bb/a1/8a/7c3de0efb3707a1701b36ebbfdbc4e67aedf6d4943a1f463d6\n",
            "  Building wheel for terminaltables (setup.py) ... \u001b[?25l\u001b[?25hdone\n",
            "  Created wheel for terminaltables: filename=terminaltables-3.1.0-cp36-none-any.whl size=15356 sha256=81de7dd5979d9fb24b65cc224d3e0483e473561500030f48bde9ab81f85a3eba\n",
            "  Stored in directory: /root/.cache/pip/wheels/30/6b/50/6c75775b681fb36cdfac7f19799888ef9d8813aff9e379663e\n",
            "Successfully built keras-tuner terminaltables\n",
            "Installing collected packages: terminaltables, colorama, keras-tuner\n",
            "Successfully installed colorama-0.4.4 keras-tuner-1.0.2 terminaltables-3.1.0\n",
            "Collecting split-folders\n",
            "  Downloading https://files.pythonhosted.org/packages/b8/5f/3c2b2f7ea5e047c8cdc3bb00ae582c5438fcdbbedcc23b3cc1c2c7aae642/split_folders-0.4.3-py3-none-any.whl\n",
            "Installing collected packages: split-folders\n",
            "Successfully installed split-folders-0.4.3\n"
          ],
          "name": "stdout"
        }
      ]
    },
    {
      "cell_type": "code",
      "metadata": {
        "id": "Uitevz-5GbGJ"
      },
      "source": [
        "import tensorflow as tf\n",
        "from tensorflow.keras.preprocessing.image import ImageDataGenerator\n",
        "from kerastuner.tuners import RandomSearch\n",
        "from kerastuner.engine.hyperparameters import HyperParameters\n",
        "import shutil\n",
        "import splitfolders\n",
        "# shutil.rmtree('food-image-classifier/dataset/.ipynb_checkpoints')"
      ],
      "execution_count": null,
      "outputs": []
    },
    {
      "cell_type": "code",
      "metadata": {
        "colab": {
          "base_uri": "https://localhost:8080/"
        },
        "id": "-mEY-o4OvWpc",
        "outputId": "ba2ab2a2-c67d-4d9b-b18f-c5c7613a6945"
      },
      "source": [
        "splitfolders.ratio('food-image-classifier/dataset/', output='output', seed=1337, ratio=(.8, .1, .1), group_prefix=None)"
      ],
      "execution_count": null,
      "outputs": [
        {
          "output_type": "stream",
          "text": [
            "Copying files: 5000 files [00:01, 4855.00 files/s]\n"
          ],
          "name": "stderr"
        }
      ]
    },
    {
      "cell_type": "code",
      "metadata": {
        "id": "k8St4W31H0KL",
        "colab": {
          "base_uri": "https://localhost:8080/"
        },
        "outputId": "b2d47a0f-cb12-4a23-9f89-7482b1afe26c"
      },
      "source": [
        "# datasets directories\n",
        "train_data_dir = 'output/train/'   #'food-101/images/'\n",
        "val_data_dir = 'output/val/'\n",
        "batch_size = 32\n",
        "\n",
        "# Rescaling images\n",
        "train_datagen = ImageDataGenerator(\n",
        "    rescale=1./255,\n",
        "    shear_range=0.2,\n",
        "    zoom_range=0.2,\n",
        "    rotation_range=10,\n",
        "    width_shift_range=0.05,\n",
        "    height_shift_range=0.05,\n",
        "    fill_mode='nearest',\n",
        "    horizontal_flip=True) \n",
        "\n",
        "validation_datagen = ImageDataGenerator(rescale=1./255)           \n",
        "\n",
        "train_generator = train_datagen.flow_from_directory(\n",
        "    train_data_dir,\n",
        "    target_size=(300,300),\n",
        "    batch_size=batch_size,\n",
        "    shuffle=True,\n",
        "    class_mode='categorical') \n",
        "\n",
        "validation_generator = validation_datagen.flow_from_directory(\n",
        "    val_data_dir, \n",
        "    target_size=(300,300),\n",
        "    batch_size=batch_size,\n",
        "    shuffle=True,\n",
        "    class_mode='categorical') "
      ],
      "execution_count": null,
      "outputs": [
        {
          "output_type": "stream",
          "text": [
            "Found 4000 images belonging to 5 classes.\n",
            "Found 500 images belonging to 5 classes.\n"
          ],
          "name": "stdout"
        }
      ]
    },
    {
      "cell_type": "code",
      "metadata": {
        "id": "LjFxQFp1-o9O"
      },
      "source": [
        "def build_model():\n",
        "    model = tf.keras.models.Sequential([\n",
        "                                        \n",
        "        # This is the first convolution                                \n",
        "        tf.keras.layers.Conv2D(64,(3,3), activation='relu', input_shape=(300, 300, 3)),\n",
        "        tf.keras.layers.MaxPooling2D(2, 2),\n",
        "\n",
        "        # The second convolution\n",
        "        tf.keras.layers.Conv2D(64,(3,3), activation='relu'),\n",
        "        tf.keras.layers.MaxPooling2D(2,2),\n",
        "\n",
        "        # The third convolution\n",
        "        tf.keras.layers.Conv2D(128,(3,3), activation='relu'),\n",
        "        tf.keras.layers.MaxPooling2D(2,2),\n",
        "\n",
        "        # The fourth convolution\n",
        "        tf.keras.layers.Conv2D(128,(3,3), activation='relu'),\n",
        "        tf.keras.layers.MaxPooling2D(2,2),\n",
        "\n",
        "        tf.keras.layers.Dropout(0.25),\n",
        "\n",
        "        # Flatten the results to feed into a DNN\n",
        "        tf.keras.layers.Flatten(),\n",
        "\n",
        "        tf.keras.layers.Dense(512, activation='relu'),\n",
        "        tf.keras.layers.Dense(256, activation='relu'),\n",
        "\n",
        "        # Output layer\n",
        "        tf.keras.layers.Dense(5, activation='softmax')\n",
        "                                      \n",
        "    ])\n",
        "\n",
        "    model.compile(optimizer='adam', loss='categorical_crossentropy', metrics=['accuracy'])\n",
        "    return model\n",
        "    "
      ],
      "execution_count": null,
      "outputs": []
    },
    {
      "cell_type": "code",
      "metadata": {
        "id": "5Myun_z5a7wl",
        "colab": {
          "base_uri": "https://localhost:8080/"
        },
        "outputId": "ce6f0ead-dfa3-42fe-868e-3e16f8cafeb7"
      },
      "source": [
        "model = build_model()\n",
        "my_callbacks = tf.keras.callbacks.EarlyStopping(monitor='loss', patience=2)\n",
        "\n",
        "history = model.fit(\n",
        "            train_generator,\n",
        "            steps_per_epoch=train_generator.samples // batch_size,  \n",
        "            epochs=30,\n",
        "            validation_data = validation_generator,\n",
        "            validation_steps=validation_generator.samples // batch_size,\n",
        "            callbacks=[my_callbacks]\n",
        "            )"
      ],
      "execution_count": null,
      "outputs": [
        {
          "output_type": "stream",
          "text": [
            "Epoch 1/30\n",
            "125/125 [==============================] - 95s 756ms/step - loss: 1.5397 - accuracy: 0.2873 - val_loss: 1.4621 - val_accuracy: 0.3271\n",
            "Epoch 2/30\n",
            "125/125 [==============================] - 95s 758ms/step - loss: 1.4571 - accuracy: 0.3360 - val_loss: 1.3884 - val_accuracy: 0.3833\n",
            "Epoch 3/30\n",
            "125/125 [==============================] - 94s 754ms/step - loss: 1.4311 - accuracy: 0.3655 - val_loss: 1.3982 - val_accuracy: 0.4104\n",
            "Epoch 4/30\n",
            "125/125 [==============================] - 94s 756ms/step - loss: 1.4031 - accuracy: 0.3940 - val_loss: 1.3783 - val_accuracy: 0.3792\n",
            "Epoch 5/30\n",
            "125/125 [==============================] - 96s 770ms/step - loss: 1.3790 - accuracy: 0.4050 - val_loss: 1.3557 - val_accuracy: 0.4062\n",
            "Epoch 6/30\n",
            "125/125 [==============================] - 96s 767ms/step - loss: 1.3414 - accuracy: 0.4308 - val_loss: 1.2624 - val_accuracy: 0.4917\n",
            "Epoch 7/30\n",
            "125/125 [==============================] - 96s 764ms/step - loss: 1.3157 - accuracy: 0.4502 - val_loss: 1.2191 - val_accuracy: 0.4896\n",
            "Epoch 8/30\n",
            "125/125 [==============================] - 96s 764ms/step - loss: 1.2469 - accuracy: 0.4737 - val_loss: 1.1377 - val_accuracy: 0.5396\n",
            "Epoch 9/30\n",
            "125/125 [==============================] - 95s 757ms/step - loss: 1.2143 - accuracy: 0.4882 - val_loss: 1.1553 - val_accuracy: 0.5375\n",
            "Epoch 10/30\n",
            "125/125 [==============================] - 95s 759ms/step - loss: 1.1370 - accuracy: 0.5340 - val_loss: 1.0695 - val_accuracy: 0.5542\n",
            "Epoch 11/30\n",
            "125/125 [==============================] - 96s 765ms/step - loss: 1.0529 - accuracy: 0.5658 - val_loss: 1.0183 - val_accuracy: 0.6208\n",
            "Epoch 12/30\n",
            "125/125 [==============================] - 96s 765ms/step - loss: 0.9859 - accuracy: 0.6037 - val_loss: 1.0060 - val_accuracy: 0.5917\n",
            "Epoch 13/30\n",
            "125/125 [==============================] - 96s 766ms/step - loss: 0.9414 - accuracy: 0.6288 - val_loss: 0.9800 - val_accuracy: 0.6333\n",
            "Epoch 14/30\n",
            "125/125 [==============================] - 95s 762ms/step - loss: 0.8869 - accuracy: 0.6450 - val_loss: 0.9106 - val_accuracy: 0.6583\n",
            "Epoch 15/30\n",
            "125/125 [==============================] - 95s 764ms/step - loss: 0.8526 - accuracy: 0.6680 - val_loss: 0.8116 - val_accuracy: 0.6938\n",
            "Epoch 16/30\n",
            "125/125 [==============================] - 95s 763ms/step - loss: 0.8386 - accuracy: 0.6710 - val_loss: 0.8027 - val_accuracy: 0.6896\n",
            "Epoch 17/30\n",
            "125/125 [==============================] - 95s 763ms/step - loss: 0.8109 - accuracy: 0.6758 - val_loss: 0.8763 - val_accuracy: 0.6625\n",
            "Epoch 18/30\n",
            "125/125 [==============================] - 95s 761ms/step - loss: 0.7592 - accuracy: 0.7075 - val_loss: 0.8175 - val_accuracy: 0.6812\n",
            "Epoch 19/30\n",
            "125/125 [==============================] - 95s 761ms/step - loss: 0.7264 - accuracy: 0.7222 - val_loss: 0.7614 - val_accuracy: 0.7021\n",
            "Epoch 20/30\n",
            "125/125 [==============================] - 96s 767ms/step - loss: 0.6915 - accuracy: 0.7355 - val_loss: 0.7868 - val_accuracy: 0.7063\n",
            "Epoch 21/30\n",
            "125/125 [==============================] - 95s 763ms/step - loss: 0.6726 - accuracy: 0.7385 - val_loss: 0.7488 - val_accuracy: 0.7396\n",
            "Epoch 22/30\n",
            "125/125 [==============================] - 96s 766ms/step - loss: 0.6798 - accuracy: 0.7393 - val_loss: 0.7637 - val_accuracy: 0.7063\n",
            "Epoch 23/30\n",
            "125/125 [==============================] - 96s 766ms/step - loss: 0.6418 - accuracy: 0.7465 - val_loss: 0.7753 - val_accuracy: 0.7333\n",
            "Epoch 24/30\n",
            "125/125 [==============================] - 95s 764ms/step - loss: 0.6308 - accuracy: 0.7585 - val_loss: 0.7921 - val_accuracy: 0.7271\n",
            "Epoch 25/30\n",
            "125/125 [==============================] - 95s 757ms/step - loss: 0.6241 - accuracy: 0.7657 - val_loss: 0.7659 - val_accuracy: 0.7104\n",
            "Epoch 26/30\n",
            "125/125 [==============================] - 94s 754ms/step - loss: 0.5953 - accuracy: 0.7768 - val_loss: 0.7799 - val_accuracy: 0.7271\n",
            "Epoch 27/30\n",
            "125/125 [==============================] - 95s 758ms/step - loss: 0.5882 - accuracy: 0.7768 - val_loss: 0.7966 - val_accuracy: 0.7437\n",
            "Epoch 28/30\n",
            "125/125 [==============================] - 95s 759ms/step - loss: 0.5672 - accuracy: 0.7807 - val_loss: 0.8571 - val_accuracy: 0.7125\n",
            "Epoch 29/30\n",
            "125/125 [==============================] - 95s 764ms/step - loss: 0.5457 - accuracy: 0.7955 - val_loss: 0.7716 - val_accuracy: 0.7437\n",
            "Epoch 30/30\n",
            "125/125 [==============================] - 95s 762ms/step - loss: 0.5249 - accuracy: 0.7908 - val_loss: 0.8255 - val_accuracy: 0.7208\n"
          ],
          "name": "stdout"
        }
      ]
    },
    {
      "cell_type": "code",
      "metadata": {
        "colab": {
          "base_uri": "https://localhost:8080/"
        },
        "id": "P1QNKfnGrdO4",
        "outputId": "278813c7-7f7e-4571-ad17-602443958324"
      },
      "source": [
        "test_datagen = ImageDataGenerator(rescale=1./255)\n",
        "\n",
        "test_generator = test_datagen.flow_from_directory(\n",
        "        'output/test/',\n",
        "        target_size=(300, 300),\n",
        "        shuffle = False,\n",
        "        class_mode='categorical',\n",
        "        batch_size=1)\n",
        "\n",
        "predict = model.evaluate(test_generator,verbose=0)\n",
        "print(\"Loss: {}\\nAccuracy: {}%\".format(round(predict[0],2),round(predict[1]*100,1)))"
      ],
      "execution_count": null,
      "outputs": [
        {
          "output_type": "stream",
          "text": [
            "Found 500 images belonging to 5 classes.\n",
            "Loss: 0.86\n",
            "Accuracy: 68.8%\n"
          ],
          "name": "stdout"
        }
      ]
    },
    {
      "cell_type": "code",
      "metadata": {
        "id": "yKAK1imlQg94",
        "colab": {
          "base_uri": "https://localhost:8080/",
          "height": 573
        },
        "outputId": "92745ee2-ade8-4c23-89c5-0b93e69f28fe"
      },
      "source": [
        "import matplotlib.pyplot as plt\n",
        "\n",
        "def plot_accuracy(history,title):\n",
        "    plt.title(title)\n",
        "    plt.plot(history.history['accuracy'])\n",
        "    plt.plot(history.history['val_accuracy'])\n",
        "    plt.ylabel('accuracy')\n",
        "    plt.xlabel('epoch')\n",
        "    plt.legend(['train_accuracy', 'validation_accuracy'], loc='best')\n",
        "    plt.show()\n",
        "\n",
        "def plot_loss(history,title):\n",
        "    plt.title(title)\n",
        "    plt.plot(history.history['loss'])\n",
        "    plt.plot(history.history['val_loss'])\n",
        "    plt.ylabel('loss')\n",
        "    plt.xlabel('epoch')\n",
        "    plt.legend(['train_loss', 'validation_loss'], loc='best')\n",
        "    plt.show()\n",
        "\n",
        "plot_accuracy(history,'Food-Classification')\n",
        "plot_loss(history,'Food-Classification')"
      ],
      "execution_count": null,
      "outputs": [
        {
          "output_type": "display_data",
          "data": {
            "image/png": "[encoded data removed]",
            "text/plain": [
              "<Figure size 432x288 with 1 Axes>"
            ]
          },
          "metadata": {
            "tags": [],
            "needs_background": "light"
          }
        },
        {
          "output_type": "display_data",
          "data": {
            "image/png": "[encoded data removed]",
            "text/plain": [
              "<Figure size 432x288 with 1 Axes>"
            ]
          },
          "metadata": {
            "tags": [],
            "needs_background": "light"
          }
        }
      ]
    },
    {
      "cell_type": "markdown",
      "metadata": {
        "id": "88ZnO1WREdFw"
      },
      "source": [
        "\n",
        "## Random Search for HyperParameter tuning"
      ]
    },
    {
      "cell_type": "code",
      "metadata": {
        "id": "X9HqOTrMMy08"
      },
      "source": [
        "def build_model_search(hp):\n",
        "    model = tf.keras.models.Sequential([\n",
        "                                        \n",
        "        # This is the first convolution                                \n",
        "        tf.keras.layers.Conv2D(filters=hp.Int('conv_1_filter',min_value=32,max_value=128,step=16),kernel_size=(3,3), activation='relu', input_shape=(150, 150, 3)),\n",
        "        tf.keras.layers.MaxPooling2D(2, 2),\n",
        "\n",
        "        # The second convolution\n",
        "        tf.keras.layers.Conv2D(filters=hp.Int('conv_2_filter',min_value=32,max_value=128,step=16),kernel_size=(3,3), activation='relu'),\n",
        "        tf.keras.layers.MaxPooling2D(2,2),\n",
        "\n",
        "        # The third convolution\n",
        "        tf.keras.layers.Conv2D(filters=hp.Int('conv_3_filter',min_value=32,max_value=128,step=16),kernel_size=(3,3), activation='relu'),\n",
        "        tf.keras.layers.MaxPooling2D(2,2),\n",
        "\n",
        "        # The fourth convolution\n",
        "        tf.keras.layers.Conv2D(filters=hp.Int('conv_4_filter',min_value=32,max_value=128,step=16),kernel_size=(3,3), activation='relu'),\n",
        "        tf.keras.layers.MaxPooling2D(2,2),\n",
        "\n",
        "        # Flatten the results to feed into a DNN\n",
        "        tf.keras.layers.Flatten(),\n",
        "\n",
        "        # 512 neuron hidden layer\n",
        "        tf.keras.layers.Dense(units=hp.Int('dense_1_units',min_value=128,max_value=1024,step=64), activation='relu'),\n",
        "        # 512 neuron hidden layer\n",
        "        tf.keras.layers.Dense(units=hp.Int('dense_2_units',min_value=128,max_value=1024,step=64), activation='relu'),\n",
        "\n",
        "        # Output layer\n",
        "        tf.keras.layers.Dense(5, activation='softmax')\n",
        "                                      \n",
        "    ])\n",
        "\n",
        "    model.compile(optimizer=tf.keras.optimizers.Adam(hp.Choice('learning_rate',values=[1e-2,1e-3])), loss='categorical_crossentropy', metrics=['accuracy'])\n",
        "    return model\n",
        "    "
      ],
      "execution_count": null,
      "outputs": []
    },
    {
      "cell_type": "code",
      "metadata": {
        "id": "YtWJXOt6k44Q"
      },
      "source": [
        "tuner_search=RandomSearch(build_model_search,objective='val_accuracy',max_trials=5,directory='output',project_name=\"Foods\")"
      ],
      "execution_count": null,
      "outputs": []
    },
    {
      "cell_type": "code",
      "metadata": {
        "id": "n24UggNSmJ81"
      },
      "source": [
        "tuner_search.search(train_generator,steps_per_epoch=125,epochs=3,validation_data=validation_generator)"
      ],
      "execution_count": null,
      "outputs": []
    },
    {
      "cell_type": "code",
      "metadata": {
        "id": "dU222EZTsXkK"
      },
      "source": [
        "model1 = tuner_search.get_best_models(1)[0]\n",
        "model1.summary()"
      ],
      "execution_count": null,
      "outputs": []
    }
  ]
}